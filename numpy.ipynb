{
  "cells": [
    {
      "cell_type": "markdown",
      "metadata": {
        "id": "vC84e9kzyxPy"
      },
      "source": [
        "<h1>Импорт библиотек"
      ]
    },
    {
      "cell_type": "code",
      "execution_count": 24,
      "metadata": {
        "id": "cgKeNegmQG5S"
      },
      "outputs": [],
      "source": [
        "# !pip install matplotlib\n",
        "import numpy as np\n",
        "import matplotlib.pyplot as plt"
      ]
    },
    {
      "cell_type": "markdown",
      "metadata": {
        "id": "qFM9uVU2x4Ls"
      },
      "source": [
        "<h1>Задача 1. Дан набор из $p$ матриц размерностью $(n, n)$ и $p$ векторов размерностью $(n, 1)$, найти сумму произведений матриц на векторы. Написать тесты для кода"
      ]
    },
    {
      "cell_type": "code",
      "execution_count": 25,
      "metadata": {
        "id": "IAbUvEiYyWFF"
      },
      "outputs": [],
      "source": [
        "def sum_prod(X, V):\n",
        "    '''\n",
        "    X - матрицы (n, n)\n",
        "    V - векторы (n, 1)\n",
        "    Гарантируется, что len(X) == len(V)\n",
        "    '''\n",
        "    if len(X) != len(V):\n",
        "        raise ValueError(\"Длина векторов различается\")\n",
        "    sum = np.zeros(V[0].shape)\n",
        "    for i in range(len(X)):\n",
        "        sum += X[i] @ V[i]\n",
        "    return sum\n",
        "\n",
        "def test_sum_prod():\n",
        "    X = [np.array([[1, 2], [3, 4]]), np.array([[5, 6], [7, 8]])]\n",
        "    V = [np.array([[1], [2]]), np.array([[3], [4]])]\n",
        "    expected_result = np.array([[22], [50]]) \n",
        "    assert np.array_equal(sum_prod(X, V), expected_result), \"Error\""
      ]
    },
    {
      "cell_type": "markdown",
      "metadata": {
        "id": "TKwPG4fIy2w4"
      },
      "source": [
        "<h1>Задача 2. Дана матрица M, напишите функцию, которая бинаризует матрицу по некоторому threshold (то есть, все значения большие threshold становятся равными 1, иначе 0). Напишите тесты для кода"
      ]
    },
    {
      "cell_type": "code",
      "execution_count": 26,
      "metadata": {
        "id": "KQDNMgsjRNH7"
      },
      "outputs": [],
      "source": [
        "def binarize_matrix(matrix, threshold):\n",
        "  binarized_matrix = [[1 if element >= threshold else 0 for element in row] for row in matrix]\n",
        "  return binarized_matrix\n",
        "\n",
        "def test_binarize():\n",
        "    M = np.array([[0.1, 0.6, 0.4], [0.7, 0.3, 0.9]])\n",
        "    threshold = 0.5\n",
        "    expected_result = np.array([[0, 1, 0], [1, 0, 1]]) \n",
        "    assert np.array_equal(binarize_matrix(M, threshold), expected_result), \"Тест не пройден\"\n",
        "\n",
        "test_binarize()"
      ]
    },
    {
      "cell_type": "markdown",
      "metadata": {
        "id": "IY5L-h-7zWhN"
      },
      "source": [
        "<h1>Задача 3. Напишите функцию, которая возвращает уникальные элементы из каждой строки матрицы. Напишите такую же функцию, но для столбцов. Напишите тесты для кода"
      ]
    },
    {
      "cell_type": "code",
      "execution_count": null,
      "metadata": {
        "id": "-8dEZhR0SBC-"
      },
      "outputs": [],
      "source": [
        "def unique_rows(mat):\n",
        "  unique_rows_list = []\n",
        "  for row in mat:\n",
        "    unique_row = set(row)\n",
        "    unique_rows_list.append(list(unique_row))\n",
        "  return unique_rows_list\n",
        "\n",
        "def unique_columns(mat):\n",
        "  transposed_mat = list(map(list, zip(*mat)))\n",
        "  unique_columns_list = unique_rows(transposed_mat)\n",
        "  return unique_columns_list\n",
        "\n",
        "def test_unique_rows(mat, expected_result):\n",
        "    actual_result = unique_rows(mat)\n",
        "    assert actual_result == expected_result\n",
        "\n",
        "\n",
        "def test_unique_columns(mat, expected_result):\n",
        "    actual_result = unique_columns(mat)\n",
        "    assert actual_result == expected_result\n",
        "\n",
        "mat1 = [[1, 2, 3], [4, 2, 1], [5, 6, 7]]\n",
        "expected_result1 = [[1, 2, 3], [4, 2], [5, 6, 7]]\n",
        "\n",
        "mat2 = [[1, 4, 5], [2, 2, 6], [3, 1, 7]]\n",
        "expected_result2 = [[1, 2, 3], [4], [5, 6, 7]]\n",
        "\n",
        "test_unique_rows(mat1, expected_result1)\n",
        "test_unique_columns(mat2, expected_result2)"
      ]
    },
    {
      "cell_type": "markdown",
      "metadata": {
        "id": "roYAlo4Jz-lH"
      },
      "source": [
        "<h1>Задача 4. Напишите функцию, которая заполняет матрицу с размерами $(m, n)$ случайными числами, распределенными по нормальному закону. Затем считает мат. ожидание и дисперсию для каждого из столбцов и строк, а также строит для каждой строки и столбца гистограмму значений (использовать функцию hist из модуля matplotlib.plot)"
      ]
    },
    {
      "cell_type": "code",
      "execution_count": null,
      "metadata": {
        "id": "nZK_71hMSQzv"
      },
      "outputs": [
        {
          "name": "stdout",
          "output_type": "stream",
          "text": [
            "Мат. ожидания для столбцов: [-0.66534184  0.01845561 -0.16376079  0.9282862 ]\n",
            "Дисперсии для столбцов: [0.41324272 0.32067878 0.40129626 2.87879124]\n",
            "Мат. ожидания для строк: [-0.88201511  0.61138149 -0.13122528  0.37108608  0.17782179]\n",
            "Дисперсии для строк: [0.5565253  0.11055169 1.37189343 0.51037239 2.79432645]\n"
          ]
        }
      ],
      "source": [
        "def generate_matrix(m, n):\n",
        "  return np.random.normal(0, 1, (m, n))\n",
        "\n",
        "def calculate_statistics(matrix):\n",
        "  means_cols = np.mean(matrix, axis=0)\n",
        "  variances_cols = np.var(matrix, axis=0)\n",
        "\n",
        "  means_rows = np.mean(matrix, axis=1)\n",
        "  variances_rows = np.var(matrix, axis=1)\n",
        "\n",
        "  return means_cols, variances_cols, means_rows, variances_rows\n",
        "\n",
        "def plot_histograms(matrix):\n",
        "  for i in range(matrix.shape[0]):\n",
        "    plt.subplot(matrix.shape[0], 2, 2 * i + 1)\n",
        "    plt.hist(matrix[i, :])\n",
        "    plt.title(f\"Столбец {i + 1}\")\n",
        "\n",
        "  for i in range(matrix.shape[1]):\n",
        "    plt.subplot(matrix.shape[1], 2, 2 * i + 2)\n",
        "    plt.hist(matrix[:, i])\n",
        "    plt.title(f\"Строка {i + 1}\")\n",
        "\n",
        "  plt.show()\n",
        "\n",
        "matrix = generate_matrix(5, 4)\n",
        "means_cols, variances_cols, means_rows, variances_rows = calculate_statistics(matrix)\n",
        "\n",
        "print(\"Мат. ожидания для столбцов:\", means_cols)\n",
        "print(\"Дисперсии для столбцов:\", variances_cols)\n",
        "print(\"Мат. ожидания для строк:\", means_rows)\n",
        "print(\"Дисперсии для строк:\", variances_rows)"
      ]
    },
    {
      "cell_type": "markdown",
      "metadata": {
        "id": "BDyATNdM0dJ2"
      },
      "source": [
        "<h1>Задача 5. Напишите функцию, которая заполняет матрицу $(m, n)$ в шахматном порядке заданными числами $a$ и $b$. Напишите тесты для кода"
      ]
    },
    {
      "cell_type": "code",
      "execution_count": null,
      "metadata": {
        "id": "RWNJYWQGecS6"
      },
      "outputs": [
        {
          "name": "stdout",
          "output_type": "stream",
          "text": [
            "Матрица 3x4 заполнена числами 1 и 2:\n",
            "[1, 2, 1, 2]\n",
            "[2, 1, 2, 1]\n",
            "[1, 2, 1, 2]\n"
          ]
        }
      ],
      "source": [
        "def chess(m, n, a, b):\n",
        "  matrix = [[0 for _ in range(n)] for _ in range(m)]\n",
        "  for i in range(m):\n",
        "    for j in range(n):\n",
        "      if (i + j) % 2 == 0:\n",
        "        matrix[i][j] = a\n",
        "      else:\n",
        "        matrix[i][j] = b\n",
        "  return matrix\n",
        "\n",
        "m = 3\n",
        "n = 4\n",
        "a = 1\n",
        "b = 2\n",
        "result = chess(m, n, a, b)\n",
        "\n",
        "print(f\"Матрица {m}x{n} заполнена числами {a} и {b}:\")\n",
        "for row in result:\n",
        "  print(row)"
      ]
    },
    {
      "cell_type": "markdown",
      "metadata": {
        "id": "-ymXLtTN0vB6"
      },
      "source": [
        "<h1>Задача 6. Напишите функцию, которая отрисовывает прямоугольник с заданными размерами (a, b) на изображении размера (m, n), цвет фона задайте в схеме RGB, как и цвет прямоугольника. Цвета также должны быть параметрами функции. Напишите аналогичную функцию но для овала с полуосями a и b. Напишите тесты для кода.\n",
        "Примечание: уравнение эллипса (границы овала) можно записать как:\n",
        "<h1>$\\frac{(x-x_0)^2}{a^2}+\\frac{(y-y_0)^2}{b^2}=1$"
      ]
    },
    {
      "cell_type": "code",
      "execution_count": null,
      "metadata": {
        "id": "sNfl1t_kfOF4"
      },
      "outputs": [],
      "source": [
        "def draw_rectangle(a, b, m, n, rectangle_color, background_color):\n",
        "    # Your code goes here\n",
        "    pass\n",
        "\n",
        "def draw_ellipse(a, b, m, n, ellipse_color, background_color):\n",
        "    # Your code goes here\n",
        "    pass"
      ]
    },
    {
      "cell_type": "markdown",
      "metadata": {
        "id": "S82c38oz244H"
      },
      "source": [
        "<h1>Задача 7. Дан некий временной ряд. Для данного ряда нужно найти его: математическое ожидание, дисперсию, СКО, найти все локальные максимумы и минимумы (локальный максимум - это точка, которая больше своих соседних точек, а локальный минимум - это точка, которая меньше своих соседей), а также вычислить для данного ряда другой ряд, получаемый методом скользящего среднего с размером окна $p$.\n",
        "<h1>Примечание: метод скользящего среднего подразумевает нахождение среднего из подмножетсва ряда размером $p$"
      ]
    },
    {
      "cell_type": "code",
      "execution_count": null,
      "metadata": {
        "id": "Zb9mIVge5MMt"
      },
      "outputs": [],
      "source": [
        "# Your code goes here"
      ]
    },
    {
      "cell_type": "markdown",
      "metadata": {
        "id": "jPkylmOX5O9n"
      },
      "source": [
        "<h1> Задача 8. Дан некоторый вектор с целочисленными метками классов, напишите функцию, которая выполняет one-hot-encoding для данного вектора\n",
        "<h1> One-hot-encoding - представление, в котором на месте метки некоторого класса стоит 1, в остальных позициях стоит 0. Например для вектора [0, 2, 3, 0] one-hot-encoding выглядит как: [[1, 0, 0, 0], [0, 0, 1, 0], [0, 0, 0, 1], [1, 0, 0, 0]]"
      ]
    },
    {
      "cell_type": "code",
      "execution_count": null,
      "metadata": {
        "id": "Y-jlnZvw56lD"
      },
      "outputs": [],
      "source": [
        "# Your code goes here"
      ]
    }
  ],
  "metadata": {
    "colab": {
      "provenance": []
    },
    "kernelspec": {
      "display_name": "Python 3",
      "name": "python3"
    },
    "language_info": {
      "codemirror_mode": {
        "name": "ipython",
        "version": 3
      },
      "file_extension": ".py",
      "mimetype": "text/x-python",
      "name": "python",
      "nbconvert_exporter": "python",
      "pygments_lexer": "ipython3",
      "version": "3.10.11"
    }
  },
  "nbformat": 4,
  "nbformat_minor": 0
}
