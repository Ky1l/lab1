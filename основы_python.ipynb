{
  "cells": [
    {
      "cell_type": "markdown",
      "metadata": {
        "id": "M-DGa20PaHnu"
      },
      "source": [
        "#Задача 1\n",
        "Написать функцию на вход которой подается строка, состоящая из латинских букв.\n",
        "Функция должна вернуть количество гласных букв (a, e, i, o, u) в этой строке. Написать тесты для кода"
      ]
    },
    {
      "cell_type": "code",
      "execution_count": 67,
      "metadata": {
        "id": "XvX8X_JJ6PCb"
      },
      "outputs": [],
      "source": [
        "def count_vowels(string):\n",
        "  vowels = \"aeiou\"\n",
        "  count = 0\n",
        "  for char in string.lower():\n",
        "    if char in vowels:\n",
        "      count += 1\n",
        "  return count\n",
        "\n",
        "def test_count_vowels():\n",
        "    assert count_vowels('') == 0\n",
        "    assert count_vowels('fwex23d') == 1\n",
        "    assert count_vowels('Hello') == 2\n",
        "    assert count_vowels('count_vowels') == 4\n",
        "    \n",
        "test_count_vowels()\n"
      ]
    },
    {
      "cell_type": "markdown",
      "metadata": {
        "id": "t2ClV_Y0bbr6"
      },
      "source": [
        "# Задача 2\n",
        "Написать функцию на вход, которой подается строка. Функция должна вернуть true, если\n",
        "каждый символ в строке встречается только 1 раз, иначе должна вернуть false. Написать тесты для кода"
      ]
    },
    {
      "cell_type": "code",
      "execution_count": 68,
      "metadata": {
        "id": "FppbECao6VIz"
      },
      "outputs": [],
      "source": [
        "def is_unique_chars(string):\n",
        "  char_set = set()\n",
        "  for char in string:\n",
        "    if char in char_set:\n",
        "      return False\n",
        "    char_set.add(char)\n",
        "  return True\n",
        "\n",
        "def test_is_unique_chars():\n",
        "    assert is_unique_chars('fwex23d') == True\n",
        "    assert is_unique_chars('Hello') == False\n",
        "    assert is_unique_chars('count_vowels') == False\n",
        "    \n",
        "test_is_unique_chars()\n"
      ]
    },
    {
      "cell_type": "markdown",
      "metadata": {
        "id": "udRiIK1cdt6E"
      },
      "source": [
        "# Задача 3\n",
        "Написать функцию, которая принимает положительное число и возвращает количество\n",
        "бит равных 1 в этом числе. Написать тесты для кода"
      ]
    },
    {
      "cell_type": "code",
      "execution_count": 69,
      "metadata": {
        "id": "6tkfDJRz6dp_"
      },
      "outputs": [],
      "source": [
        "def count_bits(n):\n",
        "  count = 0\n",
        "  while n > 0:\n",
        "    if n % 2 == 1:\n",
        "      count += 1\n",
        "    n //= 2\n",
        "  return count\n",
        "\n",
        "def test_count_bits():\n",
        "    assert count_bits(12) == 2\n",
        "    assert count_bits(7) == 3\n",
        "    assert count_bits(000) == 0\n",
        "    assert count_bits(56) == 3\n",
        "    \n",
        "test_count_bits()\n"
      ]
    },
    {
      "cell_type": "markdown",
      "metadata": {
        "id": "26dDUz-Ae17N"
      },
      "source": [
        "# Задача 4\n",
        "Написать функцию, которая принимает положительное число. Функция должна вернуть то,\n",
        "сколько раз необходимо перемножать цифры числа или результат перемножения, чтобы\n",
        "получилось число состоящее из одной цифры.\n",
        "Например, для входного числа:\n",
        "· 39 функция должна вернуть 3, так как 3*9=27 => 2*7=14 => 1*4=4\n",
        "· 4 функция должна вернуть 0, так как число уже состоит из одной цифры\n",
        "· 999 функция должна вернуть 4, так как 9*9*9=729 => 7*2*9=126 => 1*2*6=12 =>\n",
        "1*2=2. Написать тесты для кода"
      ]
    },
    {
      "cell_type": "code",
      "execution_count": 70,
      "metadata": {
        "id": "BH1A_Mgi6i4G"
      },
      "outputs": [],
      "source": [
        "def magic(n):\n",
        "  steps = 0\n",
        "  while n >= 10:\n",
        "    product = 1\n",
        "    while n > 0:\n",
        "      product *= n % 10\n",
        "      n //= 10\n",
        "    n = product\n",
        "    steps += 1\n",
        "  return steps\n",
        "\n",
        "def test_magic():\n",
        "    assert magic(39) == 3\n",
        "    assert magic(4) == 0\n",
        "    assert magic(999) == 4\n",
        "\n",
        "test_magic()\n"
      ]
    },
    {
      "cell_type": "markdown",
      "metadata": {
        "id": "0nS-kIa8g8vd"
      },
      "source": [
        "# Задача 5\n",
        "Написать функцию, которая принимает два целочисленных вектора одинаковой длины и\n",
        "возвращает среднеквадратическое отклонение двух векторов. Написать тесты для кода"
      ]
    },
    {
      "cell_type": "code",
      "execution_count": 71,
      "metadata": {
        "id": "8iphx4LM6xbx"
      },
      "outputs": [],
      "source": [
        "def mse(pred, true):\n",
        "  if len(pred) != len(true):\n",
        "    raise ValueError(\"Векторы должны иметь одинаковую длину\")\n",
        "  \n",
        "  sum_of_squares = 0\n",
        "  for i in range(len(pred)):\n",
        "    diff = pred[i] - true[i]\n",
        "    sum_of_squares += diff ** 2\n",
        "  \n",
        "  return sum_of_squares / len(pred)\n",
        "\n",
        "\n",
        "\n",
        "def test_mse():\n",
        "    assert mse([1, 2, 3, 4, 5], [1, 2, 3, 4, 5]) == 0.0\n",
        "    assert mse([1, 2, 3, 4, 5], [6, 3, 4, 3, 6]) == 5.8\n",
        "\n",
        "test_mse()"
      ]
    },
    {
      "cell_type": "markdown",
      "metadata": {
        "id": "vpIPKL439zkw"
      },
      "source": [
        "# Задача 6\n",
        "Написать функцию, принимающая целое положительное число. Функция должна вернуть\n",
        "строку вида “(n1**p1)(n2**p2)…(nk**pk)” представляющая разложение числа на простые\n",
        "множители (если pi == 1, то выводить только ni).\n",
        "Например, для числа 86240 функция должна вернуть “(2**5)(5)(7**2)(11)”. Написать тесты для кода"
      ]
    },
    {
      "cell_type": "code",
      "execution_count": 72,
      "metadata": {
        "id": "pFebmcZk94Jw"
      },
      "outputs": [],
      "source": [
        "def prime_factorization(n):\n",
        "  factors = []\n",
        "  divisor = 2\n",
        "  while divisor <= n:\n",
        "    power = 0\n",
        "    while n % divisor == 0:\n",
        "      power += 1\n",
        "      n //= divisor\n",
        "    if power > 0:\n",
        "      factors.append((divisor, power))\n",
        "    divisor += 1\n",
        "\n",
        "  result = \"\"\n",
        "  for prime, power in factors:\n",
        "    if power == 1:\n",
        "      result += f\"({prime})\"\n",
        "    else:\n",
        "      result += f\"({prime}**{power})\"\n",
        "\n",
        "  return result\n",
        "\n",
        "def tests_prime_factorization():\n",
        "    assert prime_factorization(150) == \"(2)(3)(5**2)\"\n",
        "    assert prime_factorization(50) == \"(2)(5**2)\"\n",
        "    assert prime_factorization(42342) == \"(2)(3)(7057)\"\n",
        "\n",
        "tests_prime_factorization()"
      ]
    },
    {
      "cell_type": "markdown",
      "metadata": {
        "id": "ps2s0BudX7A2"
      },
      "source": [
        "# Задача 7\n",
        "Написать функцию, принимающая целое число n, задающее количество кубиков. Функция\n",
        "должна определить, можно ли из данного кол-ва кубиков построить пирамиду, то есть\n",
        "можно ли представить число n как 1^2+2^2+3^2+…+k^2. Если можно, то функция должна\n",
        "вернуть k, иначе строку “It is impossible”. Написать тесты для кода"
      ]
    },
    {
      "cell_type": "code",
      "execution_count": 73,
      "metadata": {
        "id": "3YPjEXxhX_YT"
      },
      "outputs": [],
      "source": [
        "def pyramid(number):\n",
        "  sum_of_squares = 0\n",
        "  k = 1\n",
        "  while sum_of_squares < number:\n",
        "    sum_of_squares += k**2\n",
        "    k += 1\n",
        "\n",
        "  if sum_of_squares == number:\n",
        "    return k -1\n",
        "  else:\n",
        "    return \"It is impossible\"\n",
        "\n",
        "def test_pyramid():\n",
        "  assert pyramid(5) == 2\n",
        "  assert pyramid(30) == 4\n",
        "  assert pyramid(600) == \"It is impossible\"\n",
        "\n",
        "test_pyramid()"
      ]
    },
    {
      "cell_type": "markdown",
      "metadata": {
        "id": "KeKgmIdAQMEJ"
      },
      "source": [
        "# Задача 8\n",
        "Функция принимает на вход положительное число и определяет является ли оно сбалансированным, т.е. сумма цифр до средних равна сумме цифр после. Средними в случае нечетного числа цифр считать одну цифру, в случае четного - две средних. Написать тесты для кода"
      ]
    },
    {
      "cell_type": "code",
      "execution_count": 74,
      "metadata": {
        "id": "gMAAqtqlQrZt"
      },
      "outputs": [],
      "source": [
        "def balance(num):\n",
        "  if not isinstance(num, int) or num <= 0:\n",
        "    return False\n",
        "  num_str = str(num)\n",
        "  mid = len(num_str) // 2\n",
        "  left_sum = sum(int(digit) for digit in num_str[:mid])\n",
        "  right_sum = sum(int(digit) for digit in num_str[mid + 1:])\n",
        "  if len(num_str) % 2 == 0:\n",
        "    right_sum += int(num_str[mid])\n",
        "  return left_sum == right_sum\n",
        "\n",
        "def test_balanced():\n",
        "    assert balance(727) == True\n",
        "    assert balance(134681) == False\n",
        "    assert balance(18205) == False\n",
        "    assert balance(627276) == True\n",
        "\n",
        "test_balanced()"
      ]
    }
  ],
  "metadata": {
    "colab": {
      "provenance": []
    },
    "kernelspec": {
      "display_name": "Python 3",
      "name": "python3"
    },
    "language_info": {
      "codemirror_mode": {
        "name": "ipython",
        "version": 3
      },
      "file_extension": ".py",
      "mimetype": "text/x-python",
      "name": "python",
      "nbconvert_exporter": "python",
      "pygments_lexer": "ipython3",
      "version": "3.10.11"
    }
  },
  "nbformat": 4,
  "nbformat_minor": 0
}
